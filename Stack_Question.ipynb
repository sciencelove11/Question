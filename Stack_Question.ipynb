{
 "cells": [
  {
   "cell_type": "code",
   "execution_count": 14,
   "metadata": {},
   "outputs": [],
   "source": [
    "import sklearn\n",
    "import xgboost as xgb\n",
    "import joblib\n",
    "import matplotlib.pyplot as plt\n",
    "from sklearn.datasets import load_breast_cancer\n",
    "from sklearn.tree import DecisionTreeClassifier\n",
    "from sklearn.ensemble import GradientBoostingClassifier"
   ]
  },
  {
   "cell_type": "code",
   "execution_count": 4,
   "metadata": {},
   "outputs": [
    {
     "name": "stdout",
     "output_type": "stream",
     "text": [
      "1.0 \n",
      " 0.9790209790209791\n"
     ]
    }
   ],
   "source": [
    "cancer=load_breast_cancer()\n",
    "\n",
    "X_train, X_test, y_train, y_test=sklearn.model_selection.train_test_split(cancer.data, \n",
    "                                                                         cancer.target, \n",
    "                                                                         random_state=0)\n",
    "xg_clas=xgb.XGBClassifier(random_state=1, n_estimators=100).fit(X_train, y_train)\n",
    "print(xg_clas.score(X_train, y_train),\"\\n\", xg_clas.score(X_test, y_test))"
   ]
  },
  {
   "cell_type": "code",
   "execution_count": 33,
   "metadata": {},
   "outputs": [
    {
     "name": "stdout",
     "output_type": "stream",
     "text": [
      "Number of Trees= 100\n",
      "0:[f7<0.0489199981] yes=1,no=2,missing=1\n",
      "\t1:[f20<16.8250008] yes=3,no=4,missing=3\n",
      "\t\t3:[f10<0.591250002] yes=7,no=8,missing=7\n",
      "\t\t\t7:leaf=0.191869915\n",
      "\t\t\t8:leaf=-0\n",
      "\t\t4:[f1<18.9599991] yes=9,no=10,missing=9\n",
      "\t\t\t9:leaf=0.120000005\n",
      "\t\t\t10:leaf=-0.13333334\n",
      "\t2:[f23<785.799988] yes=5,no=6,missing=5\n",
      "\t\t5:[f21<23.7399998] yes=11,no=12,missing=11\n",
      "\t\t\t11:leaf=0.155555561\n",
      "\t\t\t12:leaf=-0.100000001\n",
      "\t\t6:[f1<14.3000002] yes=13,no=14,missing=13\n",
      "\t\t\t13:leaf=-0\n",
      "\t\t\t14:leaf=-0.191176474\n",
      "\n"
     ]
    }
   ],
   "source": [
    "dump_list=xg_clas.get_booster().get_dump()\n",
    "num_t=len(dump_list)\n",
    "print(\"Number of Trees=\",num_t)\n",
    "\n",
    "print(dump_list[0]) #I want to make predictions for unique trees, dump_list[0], dump_list[1]... etc.\n",
    "                    #but I can't convert them to objects.\n",
    "\n",
    "\n",
    "\n",
    "\n",
    "#print(xg_clas.predict(cancer.data, ntree_limit=2))\n",
    "#xgb = joblib.load(filename)\n",
    "#a=Booster.predict(data=cancer.data)\n",
    "#print(a.attributes())"
   ]
  },
  {
   "cell_type": "code",
   "execution_count": 30,
   "metadata": {},
   "outputs": [
    {
     "data": {
      "image/png": "[encoded data removed]",
      "text/plain": [
       "<Figure size 432x288 with 1 Axes>"
      ]
     },
     "metadata": {
      "needs_background": "light"
     },
     "output_type": "display_data"
    }
   ],
   "source": [
    "xgb.plot_tree(xg_clas, num_trees=0)\n",
    "plt.rcParams['figure.figsize']=[500, 100]\n",
    "plt.show()"
   ]
  },
  {
   "cell_type": "code",
   "execution_count": null,
   "metadata": {},
   "outputs": [],
   "source": []
  }
 ],
 "metadata": {
  "kernelspec": {
   "display_name": "Python 3",
   "language": "python",
   "name": "python3"
  },
  "language_info": {
   "codemirror_mode": {
    "name": "ipython",
    "version": 3
   },
   "file_extension": ".py",
   "mimetype": "text/x-python",
   "name": "python",
   "nbconvert_exporter": "python",
   "pygments_lexer": "ipython3",
   "version": "3.7.3"
  }
 },
 "nbformat": 4,
 "nbformat_minor": 2
}
